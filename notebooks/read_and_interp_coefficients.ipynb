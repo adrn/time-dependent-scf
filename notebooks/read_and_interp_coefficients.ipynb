{
 "cells": [
  {
   "cell_type": "markdown",
   "metadata": {},
   "source": [
    "# Function to read coefficients. "
   ]
  },
  {
   "cell_type": "code",
   "execution_count": 1,
   "metadata": {},
   "outputs": [
    {
     "name": "stdout",
     "output_type": "stream",
     "text": [
      "Populating the interactive namespace from numpy and matplotlib\n"
     ]
    }
   ],
   "source": [
    "%pylab inline\n",
    "from scipy import interpolate"
   ]
  },
  {
   "cell_type": "code",
   "execution_count": 12,
   "metadata": {
    "collapsed": true
   },
   "outputs": [],
   "source": [
    "font = {'size':20, 'family':'serif'}\n",
    "matplotlib.rc('font', **font)"
   ]
  },
  {
   "cell_type": "code",
   "execution_count": 2,
   "metadata": {},
   "outputs": [],
   "source": [
    "def read_coefficients(filename, nmax, lmax):\n",
    "    \"\"\"\n",
    "    Function that reads BFE coefficients.\n",
    "    \n",
    "    Parameters:\n",
    "    ------\n",
    "    filename : str\n",
    "        Filename with the coefficiens in which the first column is Snlm and the second column Tnlm\n",
    "    nmax : int\n",
    "        order of `n' in the expansion\n",
    "    lmax : int\n",
    "        order of `l' in the expansion\n",
    "        \n",
    "    Returns:\n",
    "    -------\n",
    "    Snlm : array_like\n",
    "        Matrix with the Snlm coefficients with shape (nmax+1, lmax+1, lmax+1)\n",
    "    Tnlm : array_like\n",
    "        Matrix with the Tnlm coefficients with shape (nmax+1, lmax+1, lmax+1)\n",
    "    \"\"\"\n",
    "    \n",
    "\n",
    "    ST = np.loadtxt(filename)\n",
    "\n",
    "    S = ST[:,0]\n",
    "    T = ST[:,1]\n",
    "\n",
    "    assert((nmax+1)*(lmax+1)*(lmax+1) == len(S)),\\\n",
    "            ' The values of nmax and lmax are inconsistnet with number of coefficints'\n",
    "\n",
    "    S_nlm = S.reshape(nmax+1, lmax+1, lmax+1)\n",
    "    T_nlm = T.reshape(nmax+1, lmax+1, lmax+1)\n",
    "\n",
    "    return np.ascontiguousarray(S_nlm), np.ascontiguousarray(T_nlm)"
   ]
  },
  {
   "cell_type": "code",
   "execution_count": 3,
   "metadata": {
    "scrolled": false
   },
   "outputs": [],
   "source": [
    "Snlm, Tnlm = read_coefficients('../coefficients/ST_MWST_MWLMC6_beta0_100M_snap_000_n20_l5.txt', 20, 5)"
   ]
  },
  {
   "cell_type": "code",
   "execution_count": 4,
   "metadata": {},
   "outputs": [],
   "source": [
    "def time_coefficients(filename, init_snap, final_snap, nmax, lmax):\n",
    "    \"\"\"\n",
    "    Function that make a time dependent matrix with all the coefficients\n",
    "    \n",
    "    Parameters:\n",
    "    ------\n",
    "    filename : str\n",
    "        Filename with the coefficiens in which the first column is Snlm and the second column Tnlm\n",
    "    init_snap : int\n",
    "        number of the initial coefficient file\n",
    "    final_snap : int\n",
    "        number of the final coefficient file\n",
    "    nmax : int\n",
    "        order of `n' in the expansion\n",
    "    lmax : int\n",
    "        order of `l' in the expansion\n",
    "        \n",
    "    Returns:\n",
    "    -------\n",
    "    Stnlm : array_like\n",
    "        Matrix with the Snlm coefficients for all the times with shape (t, nmax+1, lmax+1, lmax+1)\n",
    "    Ttnlm : array_like\n",
    "        Matrix with the Tnlm coefficients for all the times with shape (t, nmax+1, lmax+1, lmax+1)\n",
    "    \"\"\"\n",
    "        \n",
    "    t = final_snap-init_snap \n",
    "    S_tnlm = np.zeros((t+1, nmax+1, lmax+1, lmax+1))\n",
    "    T_tnlm = np.zeros((t+1, nmax+1, lmax+1, lmax+1))\n",
    "    for i in range(init_snap, final_snap+1):\n",
    "        ## to-do : Rename coefficients name to the format filename_000.txt\n",
    "        S_tnlm[i-init_snap], T_tnlm[i-init_snap] = read_coefficients(filename+'{:0>3d}_n20_l5.txt'.format(i), nmax, lmax)\n",
    "        \n",
    "    return S_tnlm, T_tnlm"
   ]
  },
  {
   "cell_type": "code",
   "execution_count": 5,
   "metadata": {},
   "outputs": [],
   "source": [
    "Stnlm, Ttnlm = time_coefficients('../coefficients/ST_MWST_MWLMC6_beta0_100M_snap_', 0, 20, 20, 5)"
   ]
  },
  {
   "cell_type": "code",
   "execution_count": 11,
   "metadata": {},
   "outputs": [],
   "source": [
    "def interpolate_coeff(S, T, dt_nbody, dt_interp, time, nmax, lmax):\n",
    "    \"\"\"\n",
    "    Interpolate the BFE coefficients.\n",
    "    Parameters:\n",
    "    -----------\n",
    "        Stnlm : float\n",
    "            The value of the cosine expansion coefficient for the\n",
    "            desired number of snapshots to be interpolated.\n",
    "        Ttnlm : float\n",
    "            The value of the sine expansion coefficient for the\n",
    "            desired number of snapshots to be interpolated.\n",
    "        dt_nbody : float\n",
    "            Time between snapshots in the n-body simulation.\n",
    "        dt_interp : float\n",
    "            dt for the interpolation.\n",
    "        time: float\n",
    "            Total time covered by the coefficients.\n",
    "        nmax :\n",
    "            Maximum value of ``n`` for the radial expansion.\n",
    "        lmax :\n",
    "            Maximum value of ``l`` for the spherical expansion.\n",
    "    Returns:\n",
    "    --------\n",
    "        Snlm_interpolate : float\n",
    "            The value of the cosine expansion coefficient interpolated\n",
    "            for different dt values.\n",
    "        Tnlm_interpolate : float\n",
    "            The value of the sine expansion coefficient interpolated\n",
    "            for different dt values.\n",
    "    \"\"\"\n",
    "\n",
    "    # time arrays\n",
    "    print(time, dt_nbody)\n",
    "    time_array = np.arange(0, time+dt_nbody, dt_nbody)\n",
    "    time_array_interp = np.arange(0, time+dt_interp, dt_interp)\n",
    "    #print(time_array)\n",
    "    #print(time_array_interp)\n",
    "\n",
    "    ## Coefficient Matrix size: [time, nmax+1, lmax+1, lmax+1]\n",
    "    S_interp = np.zeros((len(time_array_interp), nmax+1, lmax+1, lmax+1))\n",
    "    T_interp = np.zeros((len(time_array_interp), nmax+1, lmax+1, lmax+1))\n",
    "    # Interpolating the coefficients.\n",
    "    # To-do see if 3d inter is possible to avoid the for loops.\n",
    "    for i in range(nmax+1):\n",
    "        for j in range(lmax+1):\n",
    "            for k in range(j+1):\n",
    "                fS = interpolate.interp1d(time_array, S[:,i,j,k])\n",
    "                fT = interpolate.interp1d(time_array, T[:,i,j,k])\n",
    "                S_interp[:,i,j,k] = fS(time_array_interp)\n",
    "                T_interp[:,i,j,k] = fT(time_array_interp)\n",
    "                \n",
    "    return S_interp, T_interp\n"
   ]
  },
  {
   "cell_type": "code",
   "execution_count": 7,
   "metadata": {},
   "outputs": [
    {
     "name": "stdout",
     "output_type": "stream",
     "text": [
      "0.4 0.02\n"
     ]
    }
   ],
   "source": [
    "Sinterp, Tinterp = interpolate_coeff(Stnlm, Ttnlm, 0.02, 0.005, 0.4, 20, 5)"
   ]
  },
  {
   "cell_type": "code",
   "execution_count": 8,
   "metadata": {
    "collapsed": true
   },
   "outputs": [],
   "source": [
    "t_array = np.arange(0, 0.42, 0.02)\n",
    "t_interp = np.arange(0, 0.405, 0.005)"
   ]
  },
  {
   "cell_type": "code",
   "execution_count": 14,
   "metadata": {},
   "outputs": [
    {
     "data": {
      "text/plain": [
       "Text(0,0.5,'$S_{000}$')"
      ]
     },
     "execution_count": 14,
     "metadata": {},
     "output_type": "execute_result"
    },
    {
     "data": {
      "image/png": "[encoded data removed]",
      "text/plain": [
       "<matplotlib.figure.Figure at 0x7fc6c3301048>"
      ]
     },
     "metadata": {},
     "output_type": "display_data"
    }
   ],
   "source": [
    "figsize(12, 8)\n",
    "scatter(t_array, Stnlm[:, 0, 0, 0], label='Coefficients from sims')\n",
    "plot(t_interp, Sinterp[:, 0, 0, 0], label='Coefficients interpolated')\n",
    "legend()\n",
    "xlabel(r'$\\rm{Time}$')\n",
    "ylabel('$S_{000}$')"
   ]
  },
  {
   "cell_type": "code",
   "execution_count": null,
   "metadata": {
    "collapsed": true
   },
   "outputs": [],
   "source": []
  }
 ],
 "metadata": {
  "kernelspec": {
   "display_name": "Python 3",
   "language": "python",
   "name": "python3"
  },
  "language_info": {
   "codemirror_mode": {
    "name": "ipython",
    "version": 3
   },
   "file_extension": ".py",
   "mimetype": "text/x-python",
   "name": "python",
   "nbconvert_exporter": "python",
   "pygments_lexer": "ipython3",
   "version": "3.5.2"
  }
 },
 "nbformat": 4,
 "nbformat_minor": 2
}
